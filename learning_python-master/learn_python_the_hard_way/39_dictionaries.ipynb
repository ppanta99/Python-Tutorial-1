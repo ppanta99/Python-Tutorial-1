{
 "cells": [
  {
   "cell_type": "code",
   "execution_count": 7,
   "metadata": {},
   "outputs": [
    {
     "name": "stdout",
     "output_type": "stream",
     "text": [
      "Zed\n",
      "39\n",
      "74\n",
      "SF\n",
      "{'name': 'Zed', 'age': 39, 'height': 74, 'city': 'SF'}\n",
      "{'name': 'Zed', 'age': 39, 'height': 74, 'city': 'SF', 1: 'Wow', 2: 'Neato'}\n",
      "{'name': 'Zed', 'age': 39, 'height': 74, 2: 'Neato'}\n"
     ]
    }
   ],
   "source": [
    "stuff = {'name': 'Zed', 'age': 39, 'height': 6 * 12 + 2}\n",
    "\n",
    "print(stuff['name'])\n",
    "\n",
    "print(stuff['age'])\n",
    "\n",
    "print(stuff['height'])\n",
    "\n",
    "stuff['city'] = \"SF\"\n",
    "\n",
    "print(stuff['city'])\n",
    "\n",
    "print(stuff)\n",
    "\n",
    "stuff[1] = \"Wow\"\n",
    "\n",
    "stuff[2] = \"Neato\"\n",
    "\n",
    "print(stuff)\n",
    "\n",
    "del stuff['city']\n",
    "del stuff[1]\n",
    "\n",
    "print(stuff)"
   ]
  },
  {
   "cell_type": "code",
   "execution_count": 16,
   "metadata": {},
   "outputs": [
    {
     "name": "stdout",
     "output_type": "stream",
     "text": [
      "----------\n",
      "NY State has:  New York\n",
      "OR State has:  Portland\n",
      "----------\n",
      "Michigan's abbreviation is:  MI\n",
      "Florida's abbreviation is:  FL\n",
      "----------\n",
      "Michigan has:  Detroit\n",
      "Florida has:  Jacksonville\n",
      "----------\n",
      "Oregon in abbreviated OR\n",
      "Florida in abbreviated FL\n",
      "California in abbreviated CA\n",
      "New York in abbreviated NY\n",
      "Michigan in abbreviated MI\n",
      "----------\n",
      "Oregon state is abbreviated OR\n",
      "and has city Portland\n",
      "Florida state is abbreviated FL\n",
      "and has city Jacksonville\n",
      "California state is abbreviated CA\n",
      "and has city San Francisco\n",
      "New York state is abbreviated NY\n",
      "and has city New York\n",
      "Michigan state is abbreviated MI\n",
      "and has city Detroit\n"
     ]
    }
   ],
   "source": [
    "# create a mapping of state to abbrevation\n",
    "states = {\n",
    "    'Oregon': 'OR',\n",
    "    'Florida': 'FL',\n",
    "    'California': 'CA',\n",
    "    'New York': 'NY',\n",
    "    'Michigan': 'MI'\n",
    "}\n",
    "\n",
    "# create a basic set of states and some cities in them\n",
    "cities = {\n",
    "    'CA': 'San Francisco',\n",
    "    'MI': 'Detroit',\n",
    "    'FL': 'Jacksonville'\n",
    "}\n",
    "\n",
    "#add some more cities\n",
    "cities['NY'] = 'New York'\n",
    "cities['OR'] = 'Portland'\n",
    "\n",
    "# print out some cities\n",
    "print('-' * 10)\n",
    "print(\"NY State has: \", cities['NY'])\n",
    "print(\"OR State has: \", cities['OR'])\n",
    "\n",
    "# print some states\n",
    "print('-' * 10)\n",
    "print(\"Michigan's abbreviation is: \", states['Michigan'])\n",
    "print(\"Florida's abbreviation is: \", states['Florida'])\n",
    "\n",
    "# do it by using the state then cities dict\n",
    "print('-' * 10)\n",
    "print(\"Michigan has: \", cities[states['Michigan']])\n",
    "print(\"Florida has: \", cities[states['Florida']])\n",
    "\n",
    "# print every state abbreviation\n",
    "print('-' * 10)\n",
    "for state, abbrev in states.items():\n",
    "    print(f\"{state} in abbreviated {abbrev}\")\n",
    "    \n",
    "# now do both at the same time\n",
    "print('-' * 10)\n",
    "for state, abbrev in states.items():\n",
    "    print(f\"{state} state is abbreviated {abbrev}\")\n",
    "    print(f\"and has city {cities[abbrev]}\")\n"
   ]
  },
  {
   "cell_type": "code",
   "execution_count": 21,
   "metadata": {},
   "outputs": [
    {
     "name": "stdout",
     "output_type": "stream",
     "text": [
      "----------\n",
      "Sorry, no Texas.\n",
      "The city form the state 'TX' is: Does Not Exist\n"
     ]
    }
   ],
   "source": [
    "print('-' * 10)\n",
    "#safely get a abbreviation by state that might not be there\n",
    "state = states.get('Texas')\n",
    "if not state:\n",
    "    print(\"Sorry, no Texas.\")\n",
    "    \n",
    "# get a city with a default value\n",
    "city = cities.get('TX', 'Does Not Exist')\n",
    "print(f\"The city form the state 'TX' is: {city}\")"
   ]
  },
  {
   "cell_type": "code",
   "execution_count": 25,
   "metadata": {},
   "outputs": [
    {
     "data": {
      "text/plain": [
       "{1: 'apple', 2: 'ball'}"
      ]
     },
     "execution_count": 25,
     "metadata": {},
     "output_type": "execute_result"
    }
   ],
   "source": [
    "my_dict = {}\n",
    "\n",
    "my_dict = {1: 'apple', 2: 'ball'}\n",
    "\n",
    "my_dict = {'name': 'John', 1: [2, 4, 3]}\n",
    "\n",
    "my_dict = dict({1: 'apple', 2:'ball\"'})\n",
    "\n",
    "my_dict = dict([(1, 'apple'), (2, 'ball')])\n",
    "my_dict"
   ]
  },
  {
   "cell_type": "code",
   "execution_count": 28,
   "metadata": {},
   "outputs": [
    {
     "name": "stdout",
     "output_type": "stream",
     "text": [
      "Jack\n",
      "26\n"
     ]
    }
   ],
   "source": [
    "# access elements\n",
    "my_dict = {'name': 'Jack', 'age': 26}\n",
    "\n",
    "print(my_dict['name'])\n",
    "\n",
    "print(my_dict.get('age'))"
   ]
  },
  {
   "cell_type": "code",
   "execution_count": 31,
   "metadata": {},
   "outputs": [
    {
     "name": "stdout",
     "output_type": "stream",
     "text": [
      "{'name': 'Jack', 'age': 27}\n",
      "{'name': 'Jack', 'age': 27, 'address': 'Downtown'}\n"
     ]
    }
   ],
   "source": [
    "# change or add elements\n",
    "my_dict = {'name': 'Jack', 'age': 26}\n",
    "\n",
    "# update value\n",
    "my_dict['age'] = 27\n",
    "print(my_dict)\n",
    "\n",
    "# add item\n",
    "my_dict['address'] = 'Downtown'\n",
    "print(my_dict)"
   ]
  },
  {
   "cell_type": "code",
   "execution_count": 49,
   "metadata": {},
   "outputs": [
    {
     "name": "stdout",
     "output_type": "stream",
     "text": [
      "{1: 1, 2: 4, 3: 9, 4: 16, 5: 25}\n",
      "16\n",
      "{1: 1, 2: 4, 3: 9, 5: 25}\n",
      "(5, 25)\n",
      "{1: 1, 2: 4, 3: 9}\n",
      "{2: 4, 3: 9}\n",
      "{}\n"
     ]
    }
   ],
   "source": [
    "# remove or delete elements\n",
    "squares = {1:1, 2:4, 3:9, 4:16, 5:25}\n",
    "\n",
    "print(squares)\n",
    "\n",
    "print(squares.pop(4))\n",
    "\n",
    "print(squares)\n",
    "\n",
    "# used to remove and return an arbitrary item (key, value) \n",
    "# from the dictionary. \n",
    "print(squares.popitem())\n",
    "\n",
    "print(squares)\n",
    "\n",
    "del squares[1]\n",
    "\n",
    "print(squares)\n",
    "\n",
    "squares.clear()\n",
    "\n",
    "print(squares)\n",
    "\n",
    "# delete the dictionary itself\n",
    "del squares"
   ]
  },
  {
   "cell_type": "code",
   "execution_count": 54,
   "metadata": {},
   "outputs": [
    {
     "name": "stdout",
     "output_type": "stream",
     "text": [
      "{'Math': 0, 'English': 0, 'Science': 0}\n",
      "('Math', 0)\n",
      "('English', 0)\n",
      "('Science', 0)\n"
     ]
    },
    {
     "data": {
      "text/plain": [
       "['English', 'Math', 'Science']"
      ]
     },
     "execution_count": 54,
     "metadata": {},
     "output_type": "execute_result"
    }
   ],
   "source": [
    "# dictionary methods\n",
    "marks = {}.fromkeys(['Math', 'English', 'Science'], 0)\n",
    "\n",
    "print(marks)\n",
    "\n",
    "for item in marks.items():\n",
    "    print(item)\n",
    "\n",
    "list(sorted(marks.keys()))"
   ]
  },
  {
   "cell_type": "code",
   "execution_count": 58,
   "metadata": {},
   "outputs": [
    {
     "name": "stdout",
     "output_type": "stream",
     "text": [
      "{0: 0, 1: 1, 2: 4, 3: 9, 4: 16, 5: 25}\n",
      "{1: 1, 3: 9, 5: 25, 7: 49, 9: 81}\n"
     ]
    }
   ],
   "source": [
    "# dictionary comprehension\n",
    "squares = {x: x*x for x in range(6)}\n",
    "\n",
    "print(squares)\n",
    "\n",
    "odd_squares = {x: x*x for x in range(11) if x%2 == 1}\n",
    "\n",
    "print(odd_squares)"
   ]
  },
  {
   "cell_type": "code",
   "execution_count": 64,
   "metadata": {},
   "outputs": [
    {
     "name": "stdout",
     "output_type": "stream",
     "text": [
      "{1: 1, 3: 9, 5: 25, 7: 49, 9: 81}\n",
      "True\n",
      "True\n",
      "False\n"
     ]
    }
   ],
   "source": [
    "# dictionay membership test\n",
    "my_dict = {x: x*x for x in range(11) if x%2 == 1}\n",
    "\n",
    "print(my_dict)\n",
    "\n",
    "print(1 in my_dict)\n",
    "\n",
    "print(2 not in my_dict)\n",
    "\n",
    "# membership tests for key only not value.\n",
    "print(49 in squares)"
   ]
  },
  {
   "cell_type": "code",
   "execution_count": 69,
   "metadata": {},
   "outputs": [
    {
     "name": "stdout",
     "output_type": "stream",
     "text": [
      "{1: 1, 3: 9, 5: 25, 7: 49, 9: 81}\n",
      "Key 1: Value 1\n",
      "Key 3: Value 9\n",
      "Key 5: Value 25\n",
      "Key 7: Value 49\n",
      "Key 9: Value 81\n"
     ]
    }
   ],
   "source": [
    "# iterating through a dictionary\n",
    "my_dict = {x: x*x for x in range(11) if x%2 == 1}\n",
    "\n",
    "print(my_dict)\n",
    "\n",
    "for i in my_dict:\n",
    "    print(f\"Key {i}: Value {my_dict[i]}\")"
   ]
  },
  {
   "cell_type": "code",
   "execution_count": 75,
   "metadata": {},
   "outputs": [
    {
     "name": "stdout",
     "output_type": "stream",
     "text": [
      "{1: 1, 5: 25, 3: 9, 9: 81, 7: 49}\n",
      "5\n",
      "[1, 3, 5, 7, 9]\n"
     ]
    }
   ],
   "source": [
    "squares = {1:1, 5:25, 3:9, 9:81, 7:49}\n",
    "\n",
    "print(squares)\n",
    "\n",
    "print(len(squares))\n",
    "\n",
    "# return a new sorted list of keys in the dictionary.\n",
    "print(sorted(squares))"
   ]
  },
  {
   "cell_type": "code",
   "execution_count": null,
   "metadata": {},
   "outputs": [],
   "source": []
  }
 ],
 "metadata": {
  "kernelspec": {
   "display_name": "Python 3",
   "language": "python",
   "name": "python3"
  },
  "language_info": {
   "codemirror_mode": {
    "name": "ipython",
    "version": 3
   },
   "file_extension": ".py",
   "mimetype": "text/x-python",
   "name": "python",
   "nbconvert_exporter": "python",
   "pygments_lexer": "ipython3",
   "version": "3.6.5"
  }
 },
 "nbformat": 4,
 "nbformat_minor": 2
}
