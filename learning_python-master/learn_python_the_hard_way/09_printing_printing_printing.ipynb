{
 "cells": [
  {
   "cell_type": "code",
   "execution_count": 4,
   "metadata": {},
   "outputs": [
    {
     "name": "stdout",
     "output_type": "stream",
     "text": [
      "Here are the days:  Mon Tue Wed Thu Fri Sat Sun\n",
      "Here are the months: Jan\n",
      "Feb\n",
      "Mar\n",
      "Apr\n",
      "May\n",
      "Jun\n",
      "July\n"
     ]
    }
   ],
   "source": [
    "days = \"Mon Tue Wed Thu Fri Sat Sun\"\n",
    "months = \"Jan\\nFeb\\nMar\\nApr\\nMay\\nJun\\nJuly\"\n",
    "\n",
    "print(\"Here are the days: \", days)\n",
    "print(f\"Here are the months: {months}\")"
   ]
  },
  {
   "cell_type": "code",
   "execution_count": 5,
   "metadata": {},
   "outputs": [
    {
     "name": "stdout",
     "output_type": "stream",
     "text": [
      "\n",
      "      There's something going on here.\n",
      "      With the three double-qoutes.\n",
      "      We'll be able to type as much as we like.\n",
      "      Even 4 lines if we want, or 5, or 6.\n",
      "      \n"
     ]
    }
   ],
   "source": [
    "print(\"\"\"\n",
    "      There's something going on here.\n",
    "      With the three double-qoutes.\n",
    "      We'll be able to type as much as we like.\n",
    "      Even 4 lines if we want, or 5, or 6.\n",
    "      \"\"\")"
   ]
  },
  {
   "cell_type": "code",
   "execution_count": null,
   "metadata": {},
   "outputs": [],
   "source": []
  }
 ],
 "metadata": {
  "kernelspec": {
   "display_name": "Python 3",
   "language": "python",
   "name": "python3"
  },
  "language_info": {
   "codemirror_mode": {
    "name": "ipython",
    "version": 3
   },
   "file_extension": ".py",
   "mimetype": "text/x-python",
   "name": "python",
   "nbconvert_exporter": "python",
   "pygments_lexer": "ipython3",
   "version": "3.6.5"
  }
 },
 "nbformat": 4,
 "nbformat_minor": 2
}
