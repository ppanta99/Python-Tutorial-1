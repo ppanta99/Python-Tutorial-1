{
 "cells": [
  {
   "cell_type": "code",
   "execution_count": 1,
   "metadata": {},
   "outputs": [],
   "source": [
    "from sys import exit\n",
    "from random import randint\n",
    "from textwrap import dedent"
   ]
  },
  {
   "cell_type": "code",
   "execution_count": 2,
   "metadata": {},
   "outputs": [],
   "source": [
    "class Scene(object):\n",
    "    \n",
    "    def enter(self):\n",
    "        print(\"This scene is not yet configured.\")\n",
    "        print(\"Subclass it and implement enter().\")\n",
    "        exit(1)"
   ]
  },
  {
   "cell_type": "code",
   "execution_count": 3,
   "metadata": {},
   "outputs": [],
   "source": [
    "class Engine(object):\n",
    "    \n",
    "    def __init__(self, scene_map):\n",
    "        self.scene_map = scene_map\n",
    "        \n",
    "    def play(self):\n",
    "        current_scene = self.scene_map.opening_scene()\n",
    "        last_scene = self.scene_map.next_scene('finished')\n",
    "        \n",
    "        while current_scene != last_scene:\n",
    "            next_scene_name = current_scene.enter()\n",
    "            current_scene = self.scene_map.next_scene(next_scene_name)\n",
    "        \n",
    "        current_scene.enter()"
   ]
  },
  {
   "cell_type": "code",
   "execution_count": 4,
   "metadata": {},
   "outputs": [],
   "source": [
    "class Death(Scene):\n",
    "    \n",
    "    quips = [\n",
    "        \"You died. You kinda suck at this.\",\n",
    "        \"Your Mom would be proud... if she were smarter.\",\n",
    "        \"Such a luser.\",\n",
    "        \"I have a small puppy that's better at this.\",\n",
    "        \"You're worse than your Dad's jokes.\"\n",
    "    ]\n",
    "    \n",
    "    def enter(self):\n",
    "        print(Death.quips[randint(0, len(self.quips) - 1)])\n",
    "        exit(1)"
   ]
  },
  {
   "cell_type": "code",
   "execution_count": 5,
   "metadata": {},
   "outputs": [],
   "source": [
    "class CentralCorridor(Scene):\n",
    "    \n",
    "    def enter(self):\n",
    "        print(dedent(\"\"\"\n",
    "                    The\n",
    "                    Gothons of Planet\"\"\"))\n",
    "        \n",
    "        action = input(\"> \")\n",
    "        \n",
    "        if action == \"shoot!\":\n",
    "            print(dedent(\"\"\"\n",
    "                        Quick\n",
    "                        on the draw\"\"\"))\n",
    "            \n",
    "            return 'death'\n",
    "        \n",
    "        if action == 'dodge!':\n",
    "            print(dedent(\"\"\" Like a world class\"\"\"))\n",
    "            \n",
    "            return 'death'\n",
    "        \n",
    "        elif action == \"tell a joke\":\n",
    "            print(dedent(\"\"\" Lucky for you made\"\"\"))\n",
    "            \n",
    "            return 'laser_weapon_armory'\n",
    "        \n",
    "        else:\n",
    "            print(\"DOES NOT COMPUTE!\")\n",
    "            return 'central_corridor'\n",
    "        "
   ]
  },
  {
   "cell_type": "code",
   "execution_count": 6,
   "metadata": {},
   "outputs": [],
   "source": [
    "class Map(object):\n",
    "    scenes = {\n",
    "        'central_corridor': CentralCorridor(),\n",
    "        'death': Death()\n",
    "    }\n",
    "    \n",
    "    def __init__(self, start_scene):\n",
    "        self.start_scene = start_scene\n",
    "    \n",
    "    def next_scene(self, scene_name):\n",
    "        val = Map.scenes.get(scene_name)\n",
    "        return val\n",
    "    \n",
    "    def opening_scene(self):\n",
    "        return self.next_scene(self.start_scene)\n",
    "    \n",
    "    "
   ]
  },
  {
   "cell_type": "code",
   "execution_count": null,
   "metadata": {},
   "outputs": [
    {
     "name": "stdout",
     "output_type": "stream",
     "text": [
      "\n",
      "The\n",
      "Gothons of Planet\n"
     ]
    }
   ],
   "source": [
    "a_map = Map('central_corridor')\n",
    "a_game = Engine(a_map)\n",
    "a_game.play()"
   ]
  },
  {
   "cell_type": "code",
   "execution_count": null,
   "metadata": {},
   "outputs": [],
   "source": []
  }
 ],
 "metadata": {
  "kernelspec": {
   "display_name": "Python 3",
   "language": "python",
   "name": "python3"
  },
  "language_info": {
   "codemirror_mode": {
    "name": "ipython",
    "version": 3
   },
   "file_extension": ".py",
   "mimetype": "text/x-python",
   "name": "python",
   "nbconvert_exporter": "python",
   "pygments_lexer": "ipython3",
   "version": "3.6.5"
  }
 },
 "nbformat": 4,
 "nbformat_minor": 2
}
