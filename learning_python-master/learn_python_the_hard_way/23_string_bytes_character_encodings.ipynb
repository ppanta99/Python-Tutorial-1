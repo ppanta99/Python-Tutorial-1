{
 "cells": [
  {
   "cell_type": "markdown",
   "metadata": {},
   "source": [
    "Source: http://www.diveintopython3.net/strings.html\n",
    "\n",
    "When we talk about \"text\", you're probably thinking of \"characters and symbols on computer screen\". But computers don't deal in characters and symbols; they deal in bits and bytes. Every piece of text you've ever seen on a computer screen is actually stored in a particular character encoding. The character encoding provides a mapping between the stuff you seen on your screen and the stuff your computer actually stores in memory and on disk"
   ]
  },
  {
   "cell_type": "markdown",
   "metadata": {},
   "source": [
    "Unicode is a system designed to represent every character from every language. Unicode represents each letter, character, or ideagraph as 4-byte number. Each number represents a unique character used in at least one of the world's languages. \n",
    "\n",
    "There is a Unicode encoding that uses four bytes per character. It's called UTF-32, because 32 bits = 4 bytes. "
   ]
  },
  {
   "cell_type": "markdown",
   "metadata": {},
   "source": [
    "\"DBES\" stands for \"Decode Bytes Encode Strings\".I say \"dee bess\" in my head when I have to convert bytes and strings.  When we have bytes and need a string, \"Decode Bytes\". When you have a string and need bytes, \"Encode Strings\"."
   ]
  },
  {
   "cell_type": "code",
   "execution_count": 1,
   "metadata": {},
   "outputs": [],
   "source": [
    "input_encoding, error = 'utf-8', 'strict'\n"
   ]
  },
  {
   "cell_type": "code",
   "execution_count": 2,
   "metadata": {},
   "outputs": [
    {
     "name": "stdout",
     "output_type": "stream",
     "text": [
      "b'Afrikaans' <-----------> Afrikaans\n",
      "b'\\xe1\\x8a\\xa0\\xe1\\x88\\x9b\\xe1\\x88\\xad\\xe1\\x8a\\x9b' <-----------> አማርኛ\n",
      "b'\\xd0\\x90\\xd2\\xa7\\xd1\\x81\\xd1\\x88\\xd3\\x99\\xd0\\xb0' <-----------> Аҧсшәа\n",
      "b'\\xd8\\xa7\\xd9\\x84\\xd8\\xb9\\xd8\\xb1\\xd8\\xa8\\xd9\\x8a\\xd8\\xa9' <-----------> العربية\n",
      "b'Aragon\\xc3\\xa9s' <-----------> Aragonés\n",
      "b'Arpetan' <-----------> Arpetan\n",
      "b'Az\\xc9\\x99rbaycanca' <-----------> Azərbaycanca\n",
      "b'Bamanankan' <-----------> Bamanankan\n",
      "b'\\xe0\\xa6\\xac\\xe0\\xa6\\xbe\\xe0\\xa6\\x82\\xe0\\xa6\\xb2\\xe0\\xa6\\xbe' <-----------> বাংলা\n",
      "b'B\\xc3\\xa2n-l\\xc3\\xa2m-g\\xc3\\xba' <-----------> Bân-lâm-gú\n",
      "b'\\xd0\\x91\\xd0\\xb5\\xd0\\xbb\\xd0\\xb0\\xd1\\x80\\xd1\\x83\\xd1\\x81\\xd0\\xba\\xd0\\xb0\\xd1\\x8f' <-----------> Беларуская\n",
      "b'\\xd0\\x91\\xd1\\x8a\\xd0\\xbb\\xd0\\xb3\\xd0\\xb0\\xd1\\x80\\xd1\\x81\\xd0\\xba\\xd0\\xb8' <-----------> Български\n",
      "b'Boarisch' <-----------> Boarisch\n",
      "b'Bosanski' <-----------> Bosanski\n",
      "b'\\xd0\\x91\\xd1\\x83\\xd1\\x80\\xd1\\x8f\\xd0\\xb0\\xd0\\xb4' <-----------> Буряад\n",
      "b'Catal\\xc3\\xa0' <-----------> Català\n",
      "b'\\xd0\\xa7\\xd3\\x91\\xd0\\xb2\\xd0\\xb0\\xd1\\x88\\xd0\\xbb\\xd0\\xb0' <-----------> Чӑвашла\n",
      "b'\\xc4\\x8ce\\xc5\\xa1tina' <-----------> Čeština\n",
      "b'Cymraeg' <-----------> Cymraeg\n",
      "b'Dansk' <-----------> Dansk\n",
      "b'Deutsch' <-----------> Deutsch\n",
      "b'Eesti' <-----------> Eesti\n",
      "b'\\xce\\x95\\xce\\xbb\\xce\\xbb\\xce\\xb7\\xce\\xbd\\xce\\xb9\\xce\\xba\\xce\\xac' <-----------> Ελληνικά\n",
      "b'Espa\\xc3\\xb1ol' <-----------> Español\n",
      "b'Esperanto' <-----------> Esperanto\n",
      "b'\\xd9\\x81\\xd8\\xa7\\xd8\\xb1\\xd8\\xb3\\xdb\\x8c' <-----------> فارسی\n",
      "b'Fran\\xc3\\xa7ais' <-----------> Français\n",
      "b'Frysk' <-----------> Frysk\n",
      "b'Gaelg' <-----------> Gaelg\n",
      "b'G\\xc3\\xa0idhlig' <-----------> Gàidhlig\n",
      "b'Galego' <-----------> Galego\n",
      "b'\\xed\\x95\\x9c\\xea\\xb5\\xad\\xec\\x96\\xb4' <-----------> 한국어\n",
      "b'\\xd5\\x80\\xd5\\xa1\\xd5\\xb5\\xd5\\xa5\\xd6\\x80\\xd5\\xa5\\xd5\\xb6' <-----------> Հայերեն\n",
      "b'\\xe0\\xa4\\xb9\\xe0\\xa4\\xbf\\xe0\\xa4\\xa8\\xe0\\xa5\\x8d\\xe0\\xa4\\xa6\\xe0\\xa5\\x80' <-----------> हिन्दी\n",
      "b'Hrvatski' <-----------> Hrvatski\n",
      "b'Ido' <-----------> Ido\n",
      "b'Interlingua' <-----------> Interlingua\n",
      "b'Italiano' <-----------> Italiano\n",
      "b'\\xd7\\xa2\\xd7\\x91\\xd7\\xa8\\xd7\\x99\\xd7\\xaa' <-----------> עברית\n",
      "b'\\xe0\\xb2\\x95\\xe0\\xb2\\xa8\\xe0\\xb3\\x8d\\xe0\\xb2\\xa8\\xe0\\xb2\\xa1' <-----------> ಕನ್ನಡ\n",
      "b'Kapampangan' <-----------> Kapampangan\n",
      "b'\\xe1\\x83\\xa5\\xe1\\x83\\x90\\xe1\\x83\\xa0\\xe1\\x83\\x97\\xe1\\x83\\xa3\\xe1\\x83\\x9a\\xe1\\x83\\x98' <-----------> ქართული\n",
      "b'\\xd2\\x9a\\xd0\\xb0\\xd0\\xb7\\xd0\\xb0\\xd2\\x9b\\xd1\\x88\\xd0\\xb0' <-----------> Қазақша\n",
      "b'Krey\\xc3\\xb2l ayisyen' <-----------> Kreyòl ayisyen\n",
      "b'Latga\\xc4\\xbcu' <-----------> Latgaļu\n",
      "b'Latina' <-----------> Latina\n",
      "b'Latvie\\xc5\\xa1u' <-----------> Latviešu\n",
      "b'L\\xc3\\xabtzebuergesch' <-----------> Lëtzebuergesch\n",
      "b'Lietuvi\\xc5\\xb3' <-----------> Lietuvių\n",
      "b'Magyar' <-----------> Magyar\n",
      "b'\\xd0\\x9c\\xd0\\xb0\\xd0\\xba\\xd0\\xb5\\xd0\\xb4\\xd0\\xbe\\xd0\\xbd\\xd1\\x81\\xd0\\xba\\xd0\\xb8' <-----------> Македонски\n",
      "b'Malti' <-----------> Malti\n",
      "b'\\xe0\\xa4\\xae\\xe0\\xa4\\xb0\\xe0\\xa4\\xbe\\xe0\\xa4\\xa0\\xe0\\xa5\\x80' <-----------> मराठी\n",
      "b'\\xe1\\x83\\x9b\\xe1\\x83\\x90\\xe1\\x83\\xa0\\xe1\\x83\\x92\\xe1\\x83\\x90\\xe1\\x83\\x9a\\xe1\\x83\\xa3\\xe1\\x83\\xa0\\xe1\\x83\\x98' <-----------> მარგალური\n",
      "b'\\xd9\\x85\\xd8\\xa7\\xd8\\xb2\\xd9\\x90\\xd8\\xb1\\xd9\\x88\\xd9\\x86\\xdb\\x8c' <-----------> مازِرونی\n",
      "b'Bahasa Melayu' <-----------> Bahasa Melayu\n",
      "b'\\xd0\\x9c\\xd0\\xbe\\xd0\\xbd\\xd0\\xb3\\xd0\\xbe\\xd0\\xbb' <-----------> Монгол\n",
      "b'Nederlands' <-----------> Nederlands\n",
      "b'\\xe0\\xa4\\xa8\\xe0\\xa5\\x87\\xe0\\xa4\\xaa\\xe0\\xa4\\xbe\\xe0\\xa4\\xb2 \\xe0\\xa4\\xad\\xe0\\xa4\\xbe\\xe0\\xa4\\xb7\\xe0\\xa4\\xbe' <-----------> नेपाल भाषा\n",
      "b'\\xe6\\x97\\xa5\\xe6\\x9c\\xac\\xe8\\xaa\\x9e' <-----------> 日本語\n",
      "b'Norsk bokm\\xc3\\xa5l' <-----------> Norsk bokmål\n",
      "b'Nouormand' <-----------> Nouormand\n",
      "b'Occitan' <-----------> Occitan\n",
      "b'O\\xca\\xbbzbekcha/\\xd1\\x9e\\xd0\\xb7\\xd0\\xb1\\xd0\\xb5\\xd0\\xba\\xd1\\x87\\xd0\\xb0' <-----------> Oʻzbekcha/ўзбекча\n",
      "b'\\xe0\\xa8\\xaa\\xe0\\xa9\\xb0\\xe0\\xa8\\x9c\\xe0\\xa8\\xbe\\xe0\\xa8\\xac\\xe0\\xa9\\x80' <-----------> ਪੰਜਾਬੀ\n",
      "b'\\xd9\\xbe\\xd9\\x86\\xd8\\xac\\xd8\\xa7\\xd8\\xa8\\xdb\\x8c' <-----------> پنجابی\n",
      "b'\\xd9\\xbe\\xda\\x9a\\xd8\\xaa\\xd9\\x88' <-----------> پښتو\n",
      "b'Plattd\\xc3\\xbc\\xc3\\xbctsch' <-----------> Plattdüütsch\n",
      "b'Polski' <-----------> Polski\n",
      "b'Portugu\\xc3\\xaas' <-----------> Português\n",
      "b'Rom\\xc3\\xa2n\\xc4\\x83' <-----------> Română\n",
      "b'Romani' <-----------> Romani\n",
      "b'\\xd0\\xa0\\xd1\\x83\\xd1\\x81\\xd1\\x81\\xd0\\xba\\xd0\\xb8\\xd0\\xb9' <-----------> Русский\n",
      "b'Seeltersk' <-----------> Seeltersk\n",
      "b'Shqip' <-----------> Shqip\n",
      "b'Simple English' <-----------> Simple English\n",
      "b'Sloven\\xc4\\x8dina' <-----------> Slovenčina\n",
      "b'\\xda\\xa9\\xd9\\x88\\xd8\\xb1\\xd8\\xaf\\xdb\\x8c\\xdb\\x8c \\xd9\\x86\\xd8\\xa7\\xd9\\x88\\xdb\\x95\\xd9\\x86\\xd8\\xaf\\xdb\\x8c' <-----------> کوردیی ناوەندی\n",
      "b'\\xd0\\xa1\\xd1\\x80\\xd0\\xbf\\xd1\\x81\\xd0\\xba\\xd0\\xb8 / srpski' <-----------> Српски / srpski\n",
      "b'Suomi' <-----------> Suomi\n",
      "b'Svenska' <-----------> Svenska\n",
      "b'Tagalog' <-----------> Tagalog\n",
      "b'\\xe0\\xae\\xa4\\xe0\\xae\\xae\\xe0\\xae\\xbf\\xe0\\xae\\xb4\\xe0\\xaf\\x8d' <-----------> தமிழ்\n",
      "b'\\xe0\\xb8\\xa0\\xe0\\xb8\\xb2\\xe0\\xb8\\xa9\\xe0\\xb8\\xb2\\xe0\\xb9\\x84\\xe0\\xb8\\x97\\xe0\\xb8\\xa2' <-----------> ภาษาไทย\n",
      "b'Taqbaylit' <-----------> Taqbaylit\n",
      "b'\\xd0\\xa2\\xd0\\xb0\\xd1\\x82\\xd0\\xb0\\xd1\\x80\\xd1\\x87\\xd0\\xb0/tatar\\xc3\\xa7a' <-----------> Татарча/tatarça\n",
      "b'\\xe0\\xb0\\xa4\\xe0\\xb1\\x86\\xe0\\xb0\\xb2\\xe0\\xb1\\x81\\xe0\\xb0\\x97\\xe0\\xb1\\x81' <-----------> తెలుగు\n",
      "b'\\xd0\\xa2\\xd0\\xbe\\xd2\\xb7\\xd0\\xb8\\xd0\\xba\\xd3\\xa3' <-----------> Тоҷикӣ\n",
      "b'T\\xc3\\xbcrk\\xc3\\xa7e' <-----------> Türkçe\n",
      "b'\\xd0\\xa3\\xd0\\xba\\xd1\\x80\\xd0\\xb0\\xd1\\x97\\xd0\\xbd\\xd1\\x81\\xd1\\x8c\\xd0\\xba\\xd0\\xb0' <-----------> Українська\n",
      "b'\\xd8\\xa7\\xd8\\xb1\\xd8\\xaf\\xd9\\x88' <-----------> اردو\n",
      "b'Ti\\xe1\\xba\\xbfng Vi\\xe1\\xbb\\x87t' <-----------> Tiếng Việt\n",
      "b'V\\xc3\\xb5ro' <-----------> Võro\n",
      "b'\\xe6\\x96\\x87\\xe8\\xa8\\x80' <-----------> 文言\n",
      "b'\\xe5\\x90\\xb4\\xe8\\xaf\\xad' <-----------> 吴语\n",
      "b'\\xd7\\x99\\xd7\\x99\\xd6\\xb4\\xd7\\x93\\xd7\\x99\\xd7\\xa9' <-----------> ייִדיש\n",
      "b'\\xe4\\xb8\\xad\\xe6\\x96\\x87' <-----------> 中文\n"
     ]
    }
   ],
   "source": [
    "def main(language_file, encoding, errors):\n",
    "    line = language_file.readline()\n",
    "    \n",
    "    if line:\n",
    "        print_line(line, encoding, errors)\n",
    "        return main(language_file, encoding, errors)\n",
    "    \n",
    "def print_line(line, encoding, errors):\n",
    "    next_lang = line.strip()\n",
    "    raw_bytes = next_lang.encode(encoding, errors=errors)\n",
    "    cooked_string = raw_bytes.decode(encoding, errors=errors)\n",
    "    \n",
    "    print(raw_bytes, \"<----------->\", cooked_string)\n",
    "\n",
    "languages = open('data/languages.txt', encoding='utf-8')\n",
    "\n",
    "main(languages, input_encoding, error)"
   ]
  },
  {
   "cell_type": "code",
   "execution_count": null,
   "metadata": {},
   "outputs": [],
   "source": []
  },
  {
   "cell_type": "code",
   "execution_count": null,
   "metadata": {},
   "outputs": [],
   "source": []
  }
 ],
 "metadata": {
  "kernelspec": {
   "display_name": "Python 3",
   "language": "python",
   "name": "python3"
  },
  "language_info": {
   "codemirror_mode": {
    "name": "ipython",
    "version": 3
   },
   "file_extension": ".py",
   "mimetype": "text/x-python",
   "name": "python",
   "nbconvert_exporter": "python",
   "pygments_lexer": "ipython3",
   "version": "3.6.5"
  }
 },
 "nbformat": 4,
 "nbformat_minor": 2
}
