{
 "cells": [
  {
   "cell_type": "code",
   "execution_count": 3,
   "metadata": {},
   "outputs": [],
   "source": [
    "# Module: A module is a single Python file that can be imported.\n",
    "\n",
    "# Packages: A package is made up of multiple Python files (or modules)\n",
    "# and can even include libraries written in C or C++.\n",
    "\n",
    "# Library: When used in Python, a library is used loosely to describe a \n",
    "# collection of the core modules."
   ]
  },
  {
   "cell_type": "code",
   "execution_count": 6,
   "metadata": {},
   "outputs": [],
   "source": [
    "# Here's why classes are used instead of modules. You can take\n",
    "# this MyStuff class and used it to craft many of them, millions,\n",
    "# at a time if you want, and each one won't interfere with each other.\n",
    "# When you import a module there is only one for the entire\n",
    "# program unless you do some monster hacks.\n",
    "\n",
    "class MyStuff(object):\n",
    "    \n",
    "    def __init__(self):\n",
    "        self.tangerine = \"And now a thousand years between\"\n",
    "    \n",
    "    def apple(self):\n",
    "        print(\"I AM CLASSY APPLES!\")\n",
    "    \n"
   ]
  },
  {
   "cell_type": "code",
   "execution_count": 7,
   "metadata": {},
   "outputs": [
    {
     "name": "stdout",
     "output_type": "stream",
     "text": [
      "I AM CLASSY APPLES!\n",
      "And now a thousand years between\n"
     ]
    }
   ],
   "source": [
    "thing = MyStuff()\n",
    "thing.apple()\n",
    "print(thing.tangerine)"
   ]
  },
  {
   "cell_type": "code",
   "execution_count": 10,
   "metadata": {},
   "outputs": [
    {
     "name": "stdout",
     "output_type": "stream",
     "text": [
      "Happy birthday to you\n",
      "I don't want to get sued\n",
      "So I'll stop right there\n",
      "They rally around the family\n",
      "With pockets full of shells\n"
     ]
    }
   ],
   "source": [
    "class Song(object):\n",
    "    \n",
    "    def __init__(self, lyrics):\n",
    "        self.lyrics = lyrics\n",
    "    \n",
    "    def sing_me_a_song(self):\n",
    "        for line in self.lyrics:\n",
    "            print(line)\n",
    "\n",
    "happy_bday = Song(['Happy birthday to you',\n",
    "                  'I don\\'t want to get sued',\n",
    "                  'So I\\'ll stop right there'])\n",
    "\n",
    "bulls_on_parade = Song([\"They rally around the family\",\n",
    "                       \"With pockets full of shells\"])\n",
    "\n",
    "happy_bday.sing_me_a_song()\n",
    "\n",
    "bulls_on_parade.sing_me_a_song()\n"
   ]
  },
  {
   "cell_type": "code",
   "execution_count": null,
   "metadata": {},
   "outputs": [],
   "source": []
  }
 ],
 "metadata": {
  "kernelspec": {
   "display_name": "Python 3",
   "language": "python",
   "name": "python3"
  },
  "language_info": {
   "codemirror_mode": {
    "name": "ipython",
    "version": 3
   },
   "file_extension": ".py",
   "mimetype": "text/x-python",
   "name": "python",
   "nbconvert_exporter": "python",
   "pygments_lexer": "ipython3",
   "version": "3.6.5"
  }
 },
 "nbformat": 4,
 "nbformat_minor": 2
}
