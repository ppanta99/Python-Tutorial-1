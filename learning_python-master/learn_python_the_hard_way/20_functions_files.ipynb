{
 "cells": [
  {
   "cell_type": "code",
   "execution_count": 1,
   "metadata": {},
   "outputs": [
    {
     "name": "stdout",
     "output_type": "stream",
     "text": [
      "Input file name:\n"
     ]
    }
   ],
   "source": [
    "print(\"Input file name:\")\n",
    "file_name = input(\"> \")"
   ]
  },
  {
   "cell_type": "code",
   "execution_count": 2,
   "metadata": {},
   "outputs": [],
   "source": [
    "def print_all(f):\n",
    "    print(f.read())\n",
    "\n",
    "def rewind(f):\n",
    "    f.seek(0)\n",
    "\n",
    "def print_a_line(line_count, f):\n",
    "    print(line_count, f.readline())\n",
    "    "
   ]
  },
  {
   "cell_type": "code",
   "execution_count": 10,
   "metadata": {},
   "outputs": [
    {
     "name": "stdout",
     "output_type": "stream",
     "text": [
      "First let's print the whole file:\n",
      "TTTTtFFFFFFgg\n",
      "asdf\n",
      "asdfghhq\n",
      "12345\n",
      "\n",
      "Now let's rewind, line of like a tape.\n",
      "1 TTTTtFFFFFFgg\n",
      "\n",
      "2 asdf\n",
      "\n",
      "3 asdfghhq\n",
      "\n"
     ]
    }
   ],
   "source": [
    "current_file = open(file_name)\n",
    "\n",
    "print(\"First let's print the whole file:\")\n",
    "print_all(current_file)\n",
    "\n",
    "print(\"Now let's rewind, line of like a tape.\")\n",
    "rewind(current_file)\n",
    "\n",
    "current_line = 1\n",
    "print_a_line(current_line, current_file)\n",
    "\n",
    "current_line = current_line + 1\n",
    "print_a_line(current_line, current_file)\n",
    "\n",
    "current_line = current_line + 1\n",
    "print_a_line(current_line, current_file)"
   ]
  },
  {
   "cell_type": "code",
   "execution_count": null,
   "metadata": {},
   "outputs": [],
   "source": []
  }
 ],
 "metadata": {
  "kernelspec": {
   "display_name": "Python 3",
   "language": "python",
   "name": "python3"
  },
  "language_info": {
   "codemirror_mode": {
    "name": "ipython",
    "version": 3
   },
   "file_extension": ".py",
   "mimetype": "text/x-python",
   "name": "python",
   "nbconvert_exporter": "python",
   "pygments_lexer": "ipython3",
   "version": "3.6.5"
  }
 },
 "nbformat": 4,
 "nbformat_minor": 2
}
