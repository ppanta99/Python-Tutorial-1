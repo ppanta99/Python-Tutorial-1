{
 "cells": [
  {
   "cell_type": "markdown",
   "metadata": {},
   "source": [
    "Inheritance is used to indicate that one class will get most or all of its features from a parent class. \n",
    "\n",
    "When you are doing this kind of specialization, there are three ways that the parent and child classes can interact:\n",
    "- Actions on the child imply an action on the parent.\n",
    "- Actions on the child override the action on the parent.\n",
    "- Actions on the child alter the action on the parent."
   ]
  },
  {
   "cell_type": "code",
   "execution_count": 1,
   "metadata": {},
   "outputs": [
    {
     "name": "stdout",
     "output_type": "stream",
     "text": [
      "Parent implicity()\n",
      "Parent implicity()\n"
     ]
    }
   ],
   "source": [
    "# Implicit inheritance\n",
    "\n",
    "class Parent(object):\n",
    "    \n",
    "    def implicit(self):\n",
    "        print(\"Parent implicity()\")\n",
    "\n",
    "class Child(Parent):\n",
    "    pass\n",
    "\n",
    "dad = Parent()\n",
    "son = Child()\n",
    "\n",
    "dad.implicit()\n",
    "son.implicit()"
   ]
  },
  {
   "cell_type": "code",
   "execution_count": 2,
   "metadata": {},
   "outputs": [
    {
     "name": "stdout",
     "output_type": "stream",
     "text": [
      "PARENT override()\n",
      "CHILD overrider()\n"
     ]
    }
   ],
   "source": [
    "# Override explicitly\n",
    "\n",
    "class Parent(object):\n",
    "    \n",
    "    def override(self):\n",
    "        print(\"PARENT override()\")\n",
    "\n",
    "class Child(Parent):\n",
    "    \n",
    "    def override(self):\n",
    "        print(\"CHILD overrider()\")\n",
    "        \n",
    "dad = Parent()\n",
    "son = Child()\n",
    "\n",
    "dad.override()\n",
    "son.override()"
   ]
  },
  {
   "cell_type": "code",
   "execution_count": 3,
   "metadata": {},
   "outputs": [
    {
     "name": "stdout",
     "output_type": "stream",
     "text": [
      "PARENT altered()\n",
      "CHILD, BEFORE PARENT altered()\n",
      "PARENT altered()\n",
      "CHILD, AFTER PARENT altered()\n"
     ]
    }
   ],
   "source": [
    "# Alter Before or After\n",
    "\n",
    "class Parent(object):\n",
    "    \n",
    "    def altered(self):\n",
    "        print(\"PARENT altered()\")\n",
    "    \n",
    "class Child(Parent):\n",
    "    \n",
    "    def altered(self):\n",
    "        print(\"CHILD, BEFORE PARENT altered()\")\n",
    "        super(Child, self).altered()\n",
    "        print(\"CHILD, AFTER PARENT altered()\")\n",
    "\n",
    "dad = Parent()\n",
    "son = Child()\n",
    "\n",
    "dad.altered()\n",
    "son.altered()"
   ]
  },
  {
   "cell_type": "code",
   "execution_count": 6,
   "metadata": {},
   "outputs": [],
   "source": [
    "# Method object resolution follows depth-first left-to-right traversal\n"
   ]
  },
  {
   "cell_type": "code",
   "execution_count": 10,
   "metadata": {},
   "outputs": [
    {
     "name": "stdout",
     "output_type": "stream",
     "text": [
      "second\n",
      "first\n",
      "third\n"
     ]
    },
    {
     "data": {
      "text/plain": [
       "<__main__.Third at 0x7f85b87135f8>"
      ]
     },
     "execution_count": 10,
     "metadata": {},
     "output_type": "execute_result"
    }
   ],
   "source": [
    "class First(object):\n",
    "    def __init__(self):\n",
    "        super(First, self).__init__()\n",
    "        print(\"first\")\n",
    "\n",
    "class Second(object):\n",
    "    def __init__(self):\n",
    "        super(Second, self).__init__()\n",
    "        print(\"second\")\n",
    "    \n",
    "class Third(First, Second):\n",
    "    def __init__(self):\n",
    "        super(Third, self).__init__()\n",
    "        print(\"third\")\n",
    "        \n",
    "Third()"
   ]
  },
  {
   "cell_type": "markdown",
   "metadata": {},
   "source": [
    "http://python-history.blogspot.com/2010/06/method-resolution-order.html"
   ]
  },
  {
   "cell_type": "code",
   "execution_count": 57,
   "metadata": {},
   "outputs": [
    {
     "name": "stdout",
     "output_type": "stream",
     "text": [
      "D Constructor\n",
      "B Constructor\n",
      "A Constructor\n",
      "C method\n",
      "(<class '__main__.D'>, <class '__main__.B'>, <class '__main__.A'>, <class '__main__.C'>, <class 'object'>)\n"
     ]
    }
   ],
   "source": [
    "# Diamond problem\n",
    "class A(object):\n",
    "    def __init__(self):\n",
    "        print(\"A Constructor\")\n",
    "    \n",
    "\n",
    "class B(A):\n",
    "    def __init__(self):\n",
    "        print(\"B Constructor\")\n",
    "        super(B, self).__init__()\n",
    "    \n",
    "\n",
    "class C():\n",
    "    def __init__(self):\n",
    "        print(\"C Constructor\")\n",
    "        super(C, self).__init__()\n",
    "    \n",
    "    def method(self):\n",
    "        print(\"C method\")\n",
    "        \n",
    "class D(B, C):\n",
    "    def __init__(self):\n",
    "        print(\"D Constructor\")\n",
    "        super(D, self).__init__()\n",
    "        super().method()\n",
    "\n",
    "d = D()\n",
    "print(D.__mro__)\n",
    "#d.method()"
   ]
  },
  {
   "cell_type": "markdown",
   "metadata": {},
   "source": [
    "Composition\n",
    "\n",
    "Inheritance is useful, but another way to do the exact same thing is just to use other classes and modules, rather than rely on implicit inheritance. \n"
   ]
  },
  {
   "cell_type": "code",
   "execution_count": 51,
   "metadata": {},
   "outputs": [
    {
     "name": "stdout",
     "output_type": "stream",
     "text": [
      "OTHER implicit()\n",
      "CHILD override()\n",
      "CHILD, BEFORE OTHER altered()\n",
      "OTHER altered()\n",
      "CHILD, AFTER OTHER altered()\n"
     ]
    }
   ],
   "source": [
    "class Other(object):\n",
    "    \n",
    "    def override(self):\n",
    "        print(\"OTHER override\")\n",
    "    \n",
    "    def implicit(self):\n",
    "        print(\"OTHER implicit()\")\n",
    "    \n",
    "    def altered(self):\n",
    "        print(\"OTHER altered()\")\n",
    "        \n",
    "class Child(object):\n",
    "    \n",
    "    def __init__(self):\n",
    "        self.other = Other()\n",
    "    \n",
    "    def implicit(self):\n",
    "        self.other.implicit()\n",
    "    \n",
    "    def override(self):\n",
    "        print(\"CHILD override()\")\n",
    "    \n",
    "    def altered(self):\n",
    "        print(\"CHILD, BEFORE OTHER altered()\")\n",
    "        self.other.altered()\n",
    "        print(\"CHILD, AFTER OTHER altered()\")\n",
    "    \n",
    "son = Child()\n",
    "son.implicit()\n",
    "son.override()\n",
    "son.altered()\n",
    "        "
   ]
  },
  {
   "cell_type": "code",
   "execution_count": null,
   "metadata": {},
   "outputs": [],
   "source": []
  }
 ],
 "metadata": {
  "kernelspec": {
   "display_name": "Python 3",
   "language": "python",
   "name": "python3"
  },
  "language_info": {
   "codemirror_mode": {
    "name": "ipython",
    "version": 3
   },
   "file_extension": ".py",
   "mimetype": "text/x-python",
   "name": "python",
   "nbconvert_exporter": "python",
   "pygments_lexer": "ipython3",
   "version": "3.6.5"
  }
 },
 "nbformat": 4,
 "nbformat_minor": 2
}
