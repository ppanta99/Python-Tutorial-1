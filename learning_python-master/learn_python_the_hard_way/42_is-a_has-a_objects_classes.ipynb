{
 "cells": [
  {
   "cell_type": "code",
   "execution_count": 1,
   "metadata": {},
   "outputs": [],
   "source": [
    "class Animal(object):\n",
    "    pass\n",
    "\n",
    "class Dog(Animal):\n",
    "    \n",
    "    def __init__(self, name):\n",
    "        self.name = name\n",
    "    \n",
    "class Cat(Animal):\n",
    "    \n",
    "    def __init__(self, name):\n",
    "        self.name = name"
   ]
  },
  {
   "cell_type": "code",
   "execution_count": 4,
   "metadata": {},
   "outputs": [],
   "source": [
    "class Person(object):\n",
    "    \n",
    "    def __init__(self, name):\n",
    "        self.name = name\n",
    "        self.pet = None\n",
    "\n",
    "class Employee(Person):\n",
    "    \n",
    "    def __init__(self, name, salary):\n",
    "        super(Employee, self).__init__(name)\n",
    "        \n",
    "        self.salary = salary"
   ]
  },
  {
   "cell_type": "code",
   "execution_count": 5,
   "metadata": {},
   "outputs": [],
   "source": [
    "class Fish(object):\n",
    "    pass\n",
    "\n",
    "class Salmon(Fish):\n",
    "    pass\n",
    "\n",
    "class Halibut(Fish):\n",
    "    pass\n",
    "\n"
   ]
  },
  {
   "cell_type": "code",
   "execution_count": 7,
   "metadata": {},
   "outputs": [],
   "source": [
    "rover = Dog(\"Rover\")\n",
    "\n",
    "satan = Cat(\"Satan\")\n",
    "\n",
    "mary = Person(\"Mary\")\n",
    "\n",
    "mary.pet = satan\n",
    "\n",
    "frank = Employee(\"Frank\", 120000)\n",
    "\n",
    "frank.pet = rover\n",
    "\n",
    "flipper = Fish()\n",
    "\n",
    "crouse = Salmon()\n",
    "\n",
    "harry = Halibut()"
   ]
  },
  {
   "cell_type": "code",
   "execution_count": null,
   "metadata": {},
   "outputs": [],
   "source": []
  }
 ],
 "metadata": {
  "kernelspec": {
   "display_name": "Python 3",
   "language": "python",
   "name": "python3"
  },
  "language_info": {
   "codemirror_mode": {
    "name": "ipython",
    "version": 3
   },
   "file_extension": ".py",
   "mimetype": "text/x-python",
   "name": "python",
   "nbconvert_exporter": "python",
   "pygments_lexer": "ipython3",
   "version": "3.6.5"
  }
 },
 "nbformat": 4,
 "nbformat_minor": 2
}
