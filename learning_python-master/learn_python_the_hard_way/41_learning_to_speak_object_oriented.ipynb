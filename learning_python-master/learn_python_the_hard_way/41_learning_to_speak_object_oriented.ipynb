{
 "cells": [
  {
   "cell_type": "markdown",
   "metadata": {},
   "source": [
    "Word Drills\n",
    "\n",
    "- class: Tell Python to make a new type of thing.\n",
    "\n",
    "- object: Two meanings: the most basic type of thing, and any instance of some thing.\n",
    "\n",
    "- instance: What you get when you tell Python to create a class.\n",
    "\n",
    "- def: How you define a function inside a class.\n",
    "\n",
    "- self: Inside the functions in a class, self is a variable for the instance/object being accessed.\n",
    "\n",
    "- inheritance: The concept that one class can inherit traits from another class, much like you and your parents.\n",
    "\n",
    "- composition: The concept that a class can be composed of other classes as parts, much like how a car has wheels.\n",
    "\n",
    "- attribute: A property classes have that are from composition and are usually variables.\n",
    "\n",
    "- is-a: A phrase to say that something inherits from another, as in a \"salmon\" is-a \"fish\".\n",
    "\n",
    "- has-a: A phrase to say that something is composed of other things or has a trait, as in \"a salmon has-a mouth\"\n"
   ]
  },
  {
   "cell_type": "code",
   "execution_count": null,
   "metadata": {},
   "outputs": [],
   "source": [
    "import random\n",
    "from urllib.request import urlopen\n",
    "import sys"
   ]
  },
  {
   "cell_type": "code",
   "execution_count": null,
   "metadata": {},
   "outputs": [],
   "source": [
    "WORD_URL = \"http://learncodethehardway.org/words.txt\"\n",
    "WORDS = []\n",
    "\n",
    "PHRASES = {\n",
    "    \"class %%%(%%%):\":\n",
    "        \"Make a class named %%% that is-a %%%\",\n",
    "    \"class %%%(object):\\n\\tdef __init__(self, ***)\":\n",
    "        \"class %%% has-a __init__ that takes self and *** params.\",\n",
    "    \"*** = %%%()\":\n",
    "        \"Set *** to an instance of class %%%.\"\n",
    "}"
   ]
  },
  {
   "cell_type": "code",
   "execution_count": null,
   "metadata": {},
   "outputs": [],
   "source": [
    "PHRASE_FIRST = True\n",
    "\n",
    "for word in urlopen(WORD_URL).readlines():\n",
    "    WORDS.append(str(word.strip(), encoding='utf-8'))"
   ]
  },
  {
   "cell_type": "code",
   "execution_count": null,
   "metadata": {},
   "outputs": [],
   "source": [
    "def convert(snippet, phrase):\n",
    "    class_names = [w.capitalize() for w in random.sample(WORDS, snippet.count(\"%%%\"))]\n",
    "    other_names = random.sample(WORDS, snippet.count(\"***\"))\n",
    "    \n",
    "    results = []\n",
    "    param_names = []\n",
    "    \n",
    "    for i in range(0, snippet.count(\"@@@\")):\n",
    "        param_count = random.randint(1,3)\n",
    "        param_names.append(', '.join(random.sample(WORDS, param_count)))\n",
    "    \n",
    "    for sentence in snippet, phrase:\n",
    "        result = sentence[:]\n",
    "        \n",
    "        # fake class names\n",
    "        for word in class_names:\n",
    "            result = result.replace(\"%%%\", word, 1)\n",
    "        \n",
    "        # fake other name\n",
    "        for word in other_names:\n",
    "            result = result.replace(\"***\", word, 1)\n",
    "        \n",
    "        for word in param_names:\n",
    "            result = result.replace(\"@@@\", word, 1)\n",
    "        \n",
    "        results.append(result)\n",
    "    \n",
    "    return results"
   ]
  },
  {
   "cell_type": "code",
   "execution_count": null,
   "metadata": {},
   "outputs": [],
   "source": [
    "try:\n",
    "    while True:\n",
    "        snippets = list(PHRASES.keys())\n",
    "        random.shuffle(snippets)\n",
    "        \n",
    "        for snippet in snippets:\n",
    "            phrase = PHRASES[snippet]\n",
    "            \n",
    "            question, answer = convert(snippet, phrase)\n",
    "            \n",
    "            if PHRASE_FIRST:\n",
    "                question,answer = answer, question\n",
    "            \n",
    "            print(question)\n",
    "            \n",
    "            input(\"> \")\n",
    "            print(f\"ANSWER: {answer}\\n\\n\")\n",
    "except EOFError:\n",
    "    print(\"\\nBye\")"
   ]
  },
  {
   "cell_type": "code",
   "execution_count": null,
   "metadata": {},
   "outputs": [],
   "source": []
  }
 ],
 "metadata": {
  "kernelspec": {
   "display_name": "Python 3",
   "language": "python",
   "name": "python3"
  },
  "language_info": {
   "codemirror_mode": {
    "name": "ipython",
    "version": 3
   },
   "file_extension": ".py",
   "mimetype": "text/x-python",
   "name": "python",
   "nbconvert_exporter": "python",
   "pygments_lexer": "ipython3",
   "version": "3.6.5"
  }
 },
 "nbformat": 4,
 "nbformat_minor": 2
}
