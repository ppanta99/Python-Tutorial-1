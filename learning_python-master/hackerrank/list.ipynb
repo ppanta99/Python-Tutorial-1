{
 "cells": [
  {
   "cell_type": "code",
   "execution_count": 1,
   "metadata": {},
   "outputs": [],
   "source": [
    "result = []\n",
    "n = int(input())\n",
    "\n"
   ]
  },
  {
   "cell_type": "code",
   "execution_count": 2,
   "metadata": {},
   "outputs": [
    {
     "name": "stdout",
     "output_type": "stream",
     "text": [
      "[100]\n"
     ]
    }
   ],
   "source": [
    "for _ in range(n):\n",
    "    i = input()\n",
    "    command, *value = i.split()\n",
    "    value = list(map(int, value))\n",
    "    \n",
    "    if command == 'print':\n",
    "        print(result)\n",
    "    elif command == 'sort':\n",
    "        result.sort()\n",
    "    elif command == 'pop':\n",
    "        result.pop()\n",
    "    elif command == 'reverse':\n",
    "        result.reverse()\n",
    "    elif command == 'insert':\n",
    "        result.insert(value[0], value[1])\n",
    "    elif command == 'remove':\n",
    "        result.remove(value[0])\n",
    "    elif command == 'append':\n",
    "        result.append(value[0])\n",
    "        \n",
    "        \n",
    "    "
   ]
  },
  {
   "cell_type": "code",
   "execution_count": null,
   "metadata": {},
   "outputs": [],
   "source": []
  }
 ],
 "metadata": {
  "kernelspec": {
   "display_name": "Python 3",
   "language": "python",
   "name": "python3"
  },
  "language_info": {
   "codemirror_mode": {
    "name": "ipython",
    "version": 3
   },
   "file_extension": ".py",
   "mimetype": "text/x-python",
   "name": "python",
   "nbconvert_exporter": "python",
   "pygments_lexer": "ipython3",
   "version": "3.6.5"
  }
 },
 "nbformat": 4,
 "nbformat_minor": 2
}
