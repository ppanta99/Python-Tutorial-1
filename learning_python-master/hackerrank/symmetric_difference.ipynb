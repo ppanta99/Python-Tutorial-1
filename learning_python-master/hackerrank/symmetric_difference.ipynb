{
 "cells": [
  {
   "cell_type": "markdown",
   "metadata": {},
   "source": [
    "# Set operations"
   ]
  },
  {
   "cell_type": "code",
   "execution_count": 5,
   "metadata": {},
   "outputs": [
    {
     "name": "stdout",
     "output_type": "stream",
     "text": [
      "{1, 2}\n",
      "set()\n",
      "{'a', 'b'}\n"
     ]
    }
   ],
   "source": [
    "myset = {1, 2}\n",
    "print(myset)\n",
    "\n",
    "myset = set()\n",
    "print(myset)\n",
    "\n",
    "myset = set(['a', 'b', 'a'])\n",
    "print(myset)"
   ]
  },
  {
   "cell_type": "code",
   "execution_count": 14,
   "metadata": {},
   "outputs": [
    {
     "name": "stdout",
     "output_type": "stream",
     "text": [
      "{'a', 'c', 'b'}\n",
      "{'a', 'c', 'b'}\n",
      "{'a', 'c', 'b', (5, 4)}\n"
     ]
    }
   ],
   "source": [
    "myset = {'a', 'b'}\n",
    "\n",
    "# add adds an individual element to the set.\n",
    "myset.add('c')\n",
    "print(myset)\n",
    "\n",
    "myset.add('a')\n",
    "print(myset)\n",
    "\n",
    "myset.add((5,4))\n",
    "print(myset)\n"
   ]
  },
  {
   "cell_type": "code",
   "execution_count": 19,
   "metadata": {},
   "outputs": [
    {
     "name": "stdout",
     "output_type": "stream",
     "text": [
      "{'a', 2, 3, 1, 4, 'b'}\n",
      "{'a', 2, 3, 1, 4, 8, 9, 'b'}\n"
     ]
    }
   ],
   "source": [
    "myset = {'a', 'b'}\n",
    "\n",
    "#update() only works for iterable objects\n",
    "myset.update([1,2,3,4])\n",
    "print(myset)\n",
    "\n",
    "myset.update({8,9})\n",
    "print(myset)\n",
    "\n",
    "myset.update({'x', 'y'}, [0,7])"
   ]
  },
  {
   "cell_type": "code",
   "execution_count": 21,
   "metadata": {},
   "outputs": [
    {
     "name": "stdout",
     "output_type": "stream",
     "text": [
      "{0, 'a', 2, 3, 1, 4, 7, 8, 9, 'b', 'y', 'x'}\n",
      "{'a', 2, 3, 1, 4, 7, 8, 9, 'b', 'y', 'x'}\n",
      "{'a', 2, 3, 1, 7, 8, 9, 'b', 'y', 'x'}\n"
     ]
    }
   ],
   "source": [
    "# both discard() and remove() function take a single value \n",
    "# as an argument and removes that value from the set. If that\n",
    "# value is not present, discard() does nothing, but remove()\n",
    "# will raise a KeyError exception.\n",
    "\n",
    "print(myset)\n",
    "\n",
    "myset.discard(0)\n",
    "print(myset)\n",
    "\n",
    "myset.remove(4)\n",
    "print(myset)"
   ]
  },
  {
   "cell_type": "code",
   "execution_count": 24,
   "metadata": {},
   "outputs": [
    {
     "name": "stdout",
     "output_type": "stream",
     "text": [
      "{2, 4, 5, 9, 11, 12}\n",
      "{2, 4}\n",
      "{9, 5}\n"
     ]
    }
   ],
   "source": [
    "# common set operations\n",
    "a = {2, 4, 5, 9}\n",
    "b = {2, 4, 11, 12}\n",
    "\n",
    "print(a.union(b))\n",
    "print(a.intersection(b))\n",
    "print(a.difference(b))"
   ]
  },
  {
   "cell_type": "code",
   "execution_count": 26,
   "metadata": {},
   "outputs": [
    {
     "name": "stdout",
     "output_type": "stream",
     "text": [
      "True\n",
      "True\n",
      "False\n"
     ]
    }
   ],
   "source": [
    "print(a.union(b) == b.union(a))\n",
    "print(a.intersection(b) == b.intersection(a))\n",
    "print(a.difference(b) == b.difference(a))"
   ]
  },
  {
   "cell_type": "code",
   "execution_count": null,
   "metadata": {},
   "outputs": [],
   "source": []
  },
  {
   "cell_type": "code",
   "execution_count": null,
   "metadata": {},
   "outputs": [],
   "source": []
  },
  {
   "cell_type": "code",
   "execution_count": null,
   "metadata": {},
   "outputs": [],
   "source": []
  }
 ],
 "metadata": {
  "kernelspec": {
   "display_name": "Python 3",
   "language": "python",
   "name": "python3"
  },
  "language_info": {
   "codemirror_mode": {
    "name": "ipython",
    "version": 3
   },
   "file_extension": ".py",
   "mimetype": "text/x-python",
   "name": "python",
   "nbconvert_exporter": "python",
   "pygments_lexer": "ipython3",
   "version": "3.6.5"
  }
 },
 "nbformat": 4,
 "nbformat_minor": 2
}
